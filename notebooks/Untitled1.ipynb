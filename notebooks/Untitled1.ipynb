{
 "cells": [
  {
   "cell_type": "code",
   "execution_count": 6,
   "metadata": {
    "collapsed": true
   },
   "outputs": [],
   "source": [
    "from utils import *\n",
    "import numpy as np"
   ]
  },
  {
   "cell_type": "code",
   "execution_count": 21,
   "metadata": {
    "collapsed": true
   },
   "outputs": [],
   "source": [
    "def iter_mini(points, music):\n",
    "    pool = Pool(16)\n",
    "    spp = \"spectr/0.0.spec\"\n",
    "    points = points[0]\n",
    "    music = music[0]\n",
    "    sh = positions_to_moves(points)\n",
    "    ind = np.arange(0, len(music)-20)\n",
    "    np.random.shuffle(ind)\n",
    "    for i in range(0, len(ind), 100):\n",
    "        mus = np.array(pool.map(lambda x: np.load(spp.format(x)), ind[i:i+100]))\n",
    "        shift, delta = pool.map(lambda x:sh[x:x+19], ind[i:i+100]), pool.map(lambda x:sh[x], ind[i:i+100])\n",
    "        spos = pool.map(lambda x:points[x], ind[i:i+100])\n",
    "        yield np.array(mus), np.array(shift), np.array(spos), np.array(delta)"
   ]
  },
  {
   "cell_type": "code",
   "execution_count": 4,
   "metadata": {
    "collapsed": false
   },
   "outputs": [],
   "source": [
    "p, m = get_data(\"ok_dat.npy\")"
   ]
  },
  {
   "cell_type": "code",
   "execution_count": 5,
   "metadata": {
    "collapsed": false
   },
   "outputs": [
    {
     "data": {
      "text/plain": [
       "array([[ 0.        ,  0.        ,  0.        , ...,  0.        ,\n",
       "         0.        ,  0.        ],\n",
       "       [ 0.        ,  0.        ,  0.        , ...,  0.        ,\n",
       "         0.        ,  0.        ],\n",
       "       [ 0.        ,  0.        ,  0.        , ...,  0.        ,\n",
       "         0.        ,  0.        ],\n",
       "       ..., \n",
       "       [-0.07510376,  0.0171814 ,  0.10601807, ..., -0.36428833,\n",
       "        -0.29632568, -0.25088501],\n",
       "       [-0.20568848, -0.15539551, -0.12176514, ..., -0.49728394,\n",
       "        -0.56884766, -0.6270752 ],\n",
       "       [-0.63427734, -0.58483887, -0.503479  , ...,  0.24243164,\n",
       "         0.30773926,  0.36639404]], dtype=float32)"
      ]
     },
     "execution_count": 5,
     "metadata": {},
     "output_type": "execute_result"
    }
   ],
   "source": [
    "m[0]"
   ]
  },
  {
   "cell_type": "code",
   "execution_count": 22,
   "metadata": {
    "collapsed": false
   },
   "outputs": [],
   "source": [
    "for i in iter_mini(p, m):\n",
    "    break"
   ]
  },
  {
   "cell_type": "code",
   "execution_count": 24,
   "metadata": {
    "collapsed": false
   },
   "outputs": [
    {
     "data": {
      "text/plain": [
       "(100, 4, 200)"
      ]
     },
     "execution_count": 24,
     "metadata": {},
     "output_type": "execute_result"
    }
   ],
   "source": [
    "i[0].shape"
   ]
  },
  {
   "cell_type": "code",
   "execution_count": null,
   "metadata": {
    "collapsed": true
   },
   "outputs": [],
   "source": [
    ""
   ]
  }
 ],
 "metadata": {
  "kernelspec": {
   "display_name": "Python [conda root]",
   "language": "python",
   "name": "conda-root-py"
  },
  "language_info": {
   "codemirror_mode": {
    "name": "ipython",
    "version": 3.0
   },
   "file_extension": ".py",
   "mimetype": "text/x-python",
   "name": "python",
   "nbconvert_exporter": "python",
   "pygments_lexer": "ipython3",
   "version": "3.5.2"
  }
 },
 "nbformat": 4,
 "nbformat_minor": 0
}