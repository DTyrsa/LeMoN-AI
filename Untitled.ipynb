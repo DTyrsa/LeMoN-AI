{
 "cells": [
  {
   "cell_type": "code",
   "execution_count": 1,
   "metadata": {
    "collapsed": true
   },
   "outputs": [],
   "source": [
    "from utils import *\n",
    "import numpy as np\n",
    "import os\n",
    "import matplotlib.pyplot as plt\n",
    "%matplotlib inline"
   ]
  },
  {
   "cell_type": "code",
   "execution_count": 20,
   "metadata": {
    "collapsed": true
   },
   "outputs": [],
   "source": [
    "a = np.load(\"spectr/\"+os.listdir(\"spectr/\")[55])"
   ]
  },
  {
   "cell_type": "code",
   "execution_count": 21,
   "metadata": {
    "collapsed": false
   },
   "outputs": [
    {
     "data": {
      "text/plain": [
       "<matplotlib.image.AxesImage at 0x7f71a5e34a20>"
      ]
     },
     "execution_count": 21,
     "metadata": {},
     "output_type": "execute_result"
    },
    {
     "data": {
      "image/png": "[encoded data removed]",
      "text/plain": [
       "<matplotlib.figure.Figure at 0x7f71a607d898>"
      ]
     },
     "metadata": {},
     "output_type": "display_data"
    }
   ],
   "source": [
    "plt.imshow(a[:,100:200])"
   ]
  },
  {
   "cell_type": "code",
   "execution_count": 2,
   "metadata": {
    "collapsed": false
   },
   "outputs": [],
   "source": [
    "def get_data(npy_path):\n",
    "    data_matr = np.load(npy_path)\n",
    "    return np.array([np.array([y[0] for y in x]) for x in data_matr]),\\\n",
    "        np.array([np.array([y[1] for y in x]) for x in data_matr])\n",
    "\n",
    "    \n",
    "def get_spectrogram(y, sr=43680):\n",
    "    S = melspectrogram(y, sr=sr, n_mels=200)\n",
    "    log_S = logamplitude(S, ref_power=np.max)\n",
    "    return log_S\n",
    "\n",
    "\n",
    "\n",
    "def get_spectrs(music, block_size=20, dump_path=\"spectr/\"):\n",
    "    p = Pool(32)\n",
    "\n",
    "    for ind, mus in enumerate(music):\n",
    "        def _spec(i):\n",
    "            spec = get_spectrogram(mus[i:i+block_size].reshape(-1), 43680).T \n",
    "            spec.dump(\"{}{}.{}.spec\".format(dump_path, ind, i))\n",
    "        p.map(_spec, range(0, len(music)-block_size, 1))\n",
    "#         for i in range(0, len(music)-block_size, 1):\n",
    "#             spec = get_spectrogram(mus[i:i+block_size].reshape(-1), 43680).T \n",
    "#             spec.dump(\"{}{}.{}.spec\".format(dump_path, ind, i))\n",
    "            \n",
    "            \n",
    "def iterate_minibatches(points, music, batch_size=100, block_size=20):\n",
    "    blocks_left = [int(p.shape[0]/block_size) for p in points]\n",
    "    blocks_total = blocks_left\n",
    "    moves = np.array([positions_to_moves(x) for x in points])\n",
    "    batch_count = 0\n",
    "    train_moves = []; pred_move = []; start_pos = []; out_spec = []  \n",
    "    while np.any(blocks_left != 0):\n",
    "        inst = np.random.choice(range(len(blocks_left)))\n",
    "        start = -blocks_left[inst]*block_size\n",
    "        fin = start+block_size            \n",
    "\n",
    "        train_moves.append(moves[inst][start:fin-1])\n",
    "        \n",
    "        pred_move.append(moves[inst][fin])\n",
    "\n",
    "        start_pos.append(points[inst][start])\n",
    "        \n",
    "        our_spec = np.load(\"spectr/{}.{}.spec\".format(inst, blocks_total[inst]-blocks_left[inst]))\n",
    "        out_spec.append(our_spec)\n",
    "\n",
    "        blocks_left[inst] -= 1\n",
    "\n",
    "\n",
    "        if len(train_moves) == batch_size:\n",
    "            yield np.array(out_spec), np.array(train_moves), np.array(start_pos), np.array(pred_move)\n",
    "            train_moves = []; pred_move = []; start_pos = []; out_spec = []  "
   ]
  },
  {
   "cell_type": "code",
   "execution_count": null,
   "metadata": {
    "collapsed": false
   },
   "outputs": [],
   "source": [
    "block_size = 20; dump_path = \"spectr/\"\n",
    "p = Pool(32)\n",
    "\n",
    "def _spec(i, block_size, dump_path, ind, mus):\n",
    "        spec = get_spectrogram(mus[i:i+block_size].reshape(-1), 43680).T \n",
    "        spec.dump(\"{}{}.{}.spec\".format(dump_path, ind, i))\n",
    "\n",
    "for ind, mus in enumerate(music):\n",
    "    p.map(_spec, range(0, len(mus)-block_size, 1),\n",
    "          [block_size for _ in range(0, len(mus)-block_size, 1)],\n",
    "          [dump_path for _ in range(0, len(mus)-block_size, 1)], [ind for _ in range(0, len(mus)-block_size, 1)],\n",
    "         [mus for _ in range(0, len(mus)-block_size, 1)])"
   ]
  },
  {
   "cell_type": "code",
   "execution_count": 2,
   "metadata": {
    "collapsed": true
   },
   "outputs": [],
   "source": [
    "point, music = get_data(\"ok_dat.npy\")"
   ]
  },
  {
   "cell_type": "code",
   "execution_count": 28,
   "metadata": {
    "collapsed": true
   },
   "outputs": [],
   "source": [
    "get_spectrs(music)"
   ]
  },
  {
   "cell_type": "code",
   "execution_count": null,
   "metadata": {
    "collapsed": true
   },
   "outputs": [],
   "source": [
    "print(\"Dct\")"
   ]
  },
  {
   "cell_type": "code",
   "execution_count": 8,
   "metadata": {
    "collapsed": false
   },
   "outputs": [],
   "source": [
    "def iterate_minibatches(points, music, batch_size=100, block_size=20, pool_size=32):\n",
    "    p = Pool(pool_size)\n",
    "    \n",
    "    blocks_left = [int(p.shape[0]/block_size) for p in points]\n",
    "    blocks_total = blocks_left\n",
    "    \n",
    "    moves = np.array([positions_to_moves(x) for x in points])\n",
    "    \n",
    "    total_batch = np.sum(blocks_total)\n",
    "    #pool_size = int(total_batch/pool_size)\n",
    "    pool_indexes = [[] for _ in range(pool_size)]\n",
    "    \n",
    "    train_moves = []; pred_move = []; start_pos = []; out_spec = []\n",
    "    #for batch in range(len(total_batch)):\n",
    "    #    inst = np.random.choice(range(len(blocks_left)))\n",
    "    #    pl = np.random.choice(range(len(pool_size)))\n",
    "    #    pool_indexes[pl].append((inst, blocks_total[inst]-blocks_left[inst]))\n",
    "    \n",
    "    i = 0\n",
    "    for rec in range(len(points)):\n",
    "        pool_indexes[i] = (i, 0, batch_size*2)\n",
    "        i += 1\n",
    "    def get_vecs(pos):\n",
    "        train_moves = []; pred_move = []; start_pos = []; out_spec = []\n",
    "        for i in range(pos[1], pos[2], batch_size):\n",
    "            \n",
    "            train_moves.append(moves[pos[0]][i:i+batch_size])\n",
    "\n",
    "            pred_move.append(moves[pos[0]][i+batch_size])\n",
    "\n",
    "            start_pos.append(points[pos[0]][i])\n",
    "\n",
    "            our_spec = np.load(\"spectr/{}.{}.spec\".format(pos[0], int(i/batch_size)))\n",
    "            out_spec.append(our_spec)\n",
    "        return [out_spec, train_moves, start_pos, pred_move]\n",
    "    \n",
    "    a = np.array(p.map(get_vecs, pool_indexes))\n",
    "    \n",
    "    #for ind, rec in enumerate(points):\n",
    "     #   batch_num = int(len(rec)/batch_size)\n",
    "     #   curr_batch = 0\n",
    "     #   pool_batch = int(batch_num/(pool_size-1))\n",
    "     #   pool_left = batch_num%pool_size\n",
    "     #   for count, i in enumerate(range(0, len(rec)-pool_batch*batch_size, pool_batch*batch_size)):\n",
    "     #       print(count)\n",
    "    #        pool_indexes[count].append((ind, i, i+pool_batch*batch_size))\n",
    "    #print(np.array(pool_indexes).shape)\n",
    "    #while np.any(blocks_left != 0):\n",
    "    #    inst = np.random.choice(range(len(blocks_left)))\n",
    "    #    start = -blocks_left[inst]*block_size\n",
    "    #    fin = start+block_size\n",
    "    #    pool_indexes.append((inst, start, fin))\n",
    "    #    blocks_left[inst] -= 1\n",
    "    #print(np.array(pool_indexes).shape)\n",
    "    #    if fin < moves.shape[0]:\n",
    "    #        train_moves.append(moves[inst][start:fin-1])\n",
    "#\n",
    " #           pred_move.append(moves[inst][fin])\n",
    "#\n",
    " #           start_pos.append(points[inst][start])\n",
    "\n",
    "  #          our_spec = np.load(\"spectr/{}.{}.spec\".format(inst, blocks_total[inst]-blocks_left[inst])\n",
    "   #         out_spec.append(our_spec)\n",
    "    print(a.shape)\n",
    "\n",
    "        #blocks_left[inst] -= 1\n",
    "\n",
    "\n",
    "        #if len(train_moves) == batch_size:\n",
    "         #   yield np.array(out_spec), np.array(train_moves), np.array(start_pos), np.array(pred_move)\n",
    "          #  train_moves = []; pred_move = []; start_pos = []; out_spec = []  "
   ]
  },
  {
   "cell_type": "code",
   "execution_count": 9,
   "metadata": {
    "collapsed": false
   },
   "outputs": [
    {
     "ename": "KeyboardInterrupt",
     "evalue": "",
     "output_type": "error",
     "traceback": [
      "\u001b[0;31m---------------------------------------------------------------------------\u001b[0m",
      "\u001b[0;31mKeyboardInterrupt\u001b[0m                         Traceback (most recent call last)",
      "\u001b[0;32m<ipython-input-9-7240d281de68>\u001b[0m in \u001b[0;36m<module>\u001b[0;34m()\u001b[0m\n\u001b[0;32m----> 1\u001b[0;31m \u001b[0ma\u001b[0m \u001b[0;34m=\u001b[0m \u001b[0miterate_minibatches\u001b[0m\u001b[0;34m(\u001b[0m\u001b[0mpoint\u001b[0m\u001b[0;34m,\u001b[0m \u001b[0mmusic\u001b[0m\u001b[0;34m)\u001b[0m\u001b[0;34m\u001b[0m\u001b[0m\n\u001b[0m",
      "\u001b[0;32m<ipython-input-8-ecf2f134d775>\u001b[0m in \u001b[0;36miterate_minibatches\u001b[0;34m(points, music, batch_size, block_size, pool_size)\u001b[0m\n\u001b[1;32m     35\u001b[0m         \u001b[0;32mreturn\u001b[0m \u001b[0;34m[\u001b[0m\u001b[0mout_spec\u001b[0m\u001b[0;34m,\u001b[0m \u001b[0mtrain_moves\u001b[0m\u001b[0;34m,\u001b[0m \u001b[0mstart_pos\u001b[0m\u001b[0;34m,\u001b[0m \u001b[0mpred_move\u001b[0m\u001b[0;34m]\u001b[0m\u001b[0;34m\u001b[0m\u001b[0m\n\u001b[1;32m     36\u001b[0m \u001b[0;34m\u001b[0m\u001b[0m\n\u001b[0;32m---> 37\u001b[0;31m     \u001b[0ma\u001b[0m \u001b[0;34m=\u001b[0m \u001b[0mnp\u001b[0m\u001b[0;34m.\u001b[0m\u001b[0marray\u001b[0m\u001b[0;34m(\u001b[0m\u001b[0mp\u001b[0m\u001b[0;34m.\u001b[0m\u001b[0mmap\u001b[0m\u001b[0;34m(\u001b[0m\u001b[0mget_vecs\u001b[0m\u001b[0;34m,\u001b[0m \u001b[0mpool_indexes\u001b[0m\u001b[0;34m)\u001b[0m\u001b[0;34m)\u001b[0m\u001b[0;34m\u001b[0m\u001b[0m\n\u001b[0m\u001b[1;32m     38\u001b[0m \u001b[0;34m\u001b[0m\u001b[0m\n\u001b[1;32m     39\u001b[0m     \u001b[0;31m#for ind, rec in enumerate(points):\u001b[0m\u001b[0;34m\u001b[0m\u001b[0;34m\u001b[0m\u001b[0m\n",
      "\u001b[0;32m/anaconda3/lib/python3.5/site-packages/pathos/multiprocessing.py\u001b[0m in \u001b[0;36mmap\u001b[0;34m(self, f, *args, **kwds)\u001b[0m\n\u001b[1;32m    134\u001b[0m         \u001b[0mAbstractWorkerPool\u001b[0m\u001b[0;34m.\u001b[0m\u001b[0m_AbstractWorkerPool__map\u001b[0m\u001b[0;34m(\u001b[0m\u001b[0mself\u001b[0m\u001b[0;34m,\u001b[0m \u001b[0mf\u001b[0m\u001b[0;34m,\u001b[0m \u001b[0;34m*\u001b[0m\u001b[0margs\u001b[0m\u001b[0;34m,\u001b[0m \u001b[0;34m**\u001b[0m\u001b[0mkwds\u001b[0m\u001b[0;34m)\u001b[0m\u001b[0;34m\u001b[0m\u001b[0m\n\u001b[1;32m    135\u001b[0m         \u001b[0m_pool\u001b[0m \u001b[0;34m=\u001b[0m \u001b[0mself\u001b[0m\u001b[0;34m.\u001b[0m\u001b[0m_serve\u001b[0m\u001b[0;34m(\u001b[0m\u001b[0;34m)\u001b[0m\u001b[0;34m\u001b[0m\u001b[0m\n\u001b[0;32m--> 136\u001b[0;31m         \u001b[0;32mreturn\u001b[0m \u001b[0m_pool\u001b[0m\u001b[0;34m.\u001b[0m\u001b[0mmap\u001b[0m\u001b[0;34m(\u001b[0m\u001b[0mstar\u001b[0m\u001b[0;34m(\u001b[0m\u001b[0mf\u001b[0m\u001b[0;34m)\u001b[0m\u001b[0;34m,\u001b[0m \u001b[0mzip\u001b[0m\u001b[0;34m(\u001b[0m\u001b[0;34m*\u001b[0m\u001b[0margs\u001b[0m\u001b[0;34m)\u001b[0m\u001b[0;34m)\u001b[0m \u001b[0;31m# chunksize\u001b[0m\u001b[0;34m\u001b[0m\u001b[0m\n\u001b[0m\u001b[1;32m    137\u001b[0m     \u001b[0mmap\u001b[0m\u001b[0;34m.\u001b[0m\u001b[0m__doc__\u001b[0m \u001b[0;34m=\u001b[0m \u001b[0mAbstractWorkerPool\u001b[0m\u001b[0;34m.\u001b[0m\u001b[0mmap\u001b[0m\u001b[0;34m.\u001b[0m\u001b[0m__doc__\u001b[0m\u001b[0;34m\u001b[0m\u001b[0m\n\u001b[1;32m    138\u001b[0m     \u001b[0;32mdef\u001b[0m \u001b[0mimap\u001b[0m\u001b[0;34m(\u001b[0m\u001b[0mself\u001b[0m\u001b[0;34m,\u001b[0m \u001b[0mf\u001b[0m\u001b[0;34m,\u001b[0m \u001b[0;34m*\u001b[0m\u001b[0margs\u001b[0m\u001b[0;34m,\u001b[0m \u001b[0;34m**\u001b[0m\u001b[0mkwds\u001b[0m\u001b[0;34m)\u001b[0m\u001b[0;34m:\u001b[0m\u001b[0;34m\u001b[0m\u001b[0m\n",
      "\u001b[0;32m/anaconda3/lib/python3.5/site-packages/multiprocess/pool.py\u001b[0m in \u001b[0;36mmap\u001b[0;34m(self, func, iterable, chunksize)\u001b[0m\n\u001b[1;32m    258\u001b[0m         \u001b[0;32min\u001b[0m \u001b[0ma\u001b[0m \u001b[0mlist\u001b[0m \u001b[0mthat\u001b[0m \u001b[0;32mis\u001b[0m \u001b[0mreturned\u001b[0m\u001b[0;34m.\u001b[0m\u001b[0;34m\u001b[0m\u001b[0m\n\u001b[1;32m    259\u001b[0m         '''\n\u001b[0;32m--> 260\u001b[0;31m         \u001b[0;32mreturn\u001b[0m \u001b[0mself\u001b[0m\u001b[0;34m.\u001b[0m\u001b[0m_map_async\u001b[0m\u001b[0;34m(\u001b[0m\u001b[0mfunc\u001b[0m\u001b[0;34m,\u001b[0m \u001b[0miterable\u001b[0m\u001b[0;34m,\u001b[0m \u001b[0mmapstar\u001b[0m\u001b[0;34m,\u001b[0m \u001b[0mchunksize\u001b[0m\u001b[0;34m)\u001b[0m\u001b[0;34m.\u001b[0m\u001b[0mget\u001b[0m\u001b[0;34m(\u001b[0m\u001b[0;34m)\u001b[0m\u001b[0;34m\u001b[0m\u001b[0m\n\u001b[0m\u001b[1;32m    261\u001b[0m \u001b[0;34m\u001b[0m\u001b[0m\n\u001b[1;32m    262\u001b[0m     \u001b[0;32mdef\u001b[0m \u001b[0mstarmap\u001b[0m\u001b[0;34m(\u001b[0m\u001b[0mself\u001b[0m\u001b[0;34m,\u001b[0m \u001b[0mfunc\u001b[0m\u001b[0;34m,\u001b[0m \u001b[0miterable\u001b[0m\u001b[0;34m,\u001b[0m \u001b[0mchunksize\u001b[0m\u001b[0;34m=\u001b[0m\u001b[0;32mNone\u001b[0m\u001b[0;34m)\u001b[0m\u001b[0;34m:\u001b[0m\u001b[0;34m\u001b[0m\u001b[0m\n",
      "\u001b[0;32m/anaconda3/lib/python3.5/site-packages/multiprocess/pool.py\u001b[0m in \u001b[0;36mget\u001b[0;34m(self, timeout)\u001b[0m\n\u001b[1;32m    600\u001b[0m \u001b[0;34m\u001b[0m\u001b[0m\n\u001b[1;32m    601\u001b[0m     \u001b[0;32mdef\u001b[0m \u001b[0mget\u001b[0m\u001b[0;34m(\u001b[0m\u001b[0mself\u001b[0m\u001b[0;34m,\u001b[0m \u001b[0mtimeout\u001b[0m\u001b[0;34m=\u001b[0m\u001b[0;32mNone\u001b[0m\u001b[0;34m)\u001b[0m\u001b[0;34m:\u001b[0m\u001b[0;34m\u001b[0m\u001b[0m\n\u001b[0;32m--> 602\u001b[0;31m         \u001b[0mself\u001b[0m\u001b[0;34m.\u001b[0m\u001b[0mwait\u001b[0m\u001b[0;34m(\u001b[0m\u001b[0mtimeout\u001b[0m\u001b[0;34m)\u001b[0m\u001b[0;34m\u001b[0m\u001b[0m\n\u001b[0m\u001b[1;32m    603\u001b[0m         \u001b[0;32mif\u001b[0m \u001b[0;32mnot\u001b[0m \u001b[0mself\u001b[0m\u001b[0;34m.\u001b[0m\u001b[0mready\u001b[0m\u001b[0;34m(\u001b[0m\u001b[0;34m)\u001b[0m\u001b[0;34m:\u001b[0m\u001b[0;34m\u001b[0m\u001b[0m\n\u001b[1;32m    604\u001b[0m             \u001b[0;32mraise\u001b[0m \u001b[0mTimeoutError\u001b[0m\u001b[0;34m\u001b[0m\u001b[0m\n",
      "\u001b[0;32m/anaconda3/lib/python3.5/site-packages/multiprocess/pool.py\u001b[0m in \u001b[0;36mwait\u001b[0;34m(self, timeout)\u001b[0m\n\u001b[1;32m    597\u001b[0m \u001b[0;34m\u001b[0m\u001b[0m\n\u001b[1;32m    598\u001b[0m     \u001b[0;32mdef\u001b[0m \u001b[0mwait\u001b[0m\u001b[0;34m(\u001b[0m\u001b[0mself\u001b[0m\u001b[0;34m,\u001b[0m \u001b[0mtimeout\u001b[0m\u001b[0;34m=\u001b[0m\u001b[0;32mNone\u001b[0m\u001b[0;34m)\u001b[0m\u001b[0;34m:\u001b[0m\u001b[0;34m\u001b[0m\u001b[0m\n\u001b[0;32m--> 599\u001b[0;31m         \u001b[0mself\u001b[0m\u001b[0;34m.\u001b[0m\u001b[0m_event\u001b[0m\u001b[0;34m.\u001b[0m\u001b[0mwait\u001b[0m\u001b[0;34m(\u001b[0m\u001b[0mtimeout\u001b[0m\u001b[0;34m)\u001b[0m\u001b[0;34m\u001b[0m\u001b[0m\n\u001b[0m\u001b[1;32m    600\u001b[0m \u001b[0;34m\u001b[0m\u001b[0m\n\u001b[1;32m    601\u001b[0m     \u001b[0;32mdef\u001b[0m \u001b[0mget\u001b[0m\u001b[0;34m(\u001b[0m\u001b[0mself\u001b[0m\u001b[0;34m,\u001b[0m \u001b[0mtimeout\u001b[0m\u001b[0;34m=\u001b[0m\u001b[0;32mNone\u001b[0m\u001b[0;34m)\u001b[0m\u001b[0;34m:\u001b[0m\u001b[0;34m\u001b[0m\u001b[0m\n",
      "\u001b[0;32m/anaconda3/lib/python3.5/threading.py\u001b[0m in \u001b[0;36mwait\u001b[0;34m(self, timeout)\u001b[0m\n\u001b[1;32m    547\u001b[0m             \u001b[0msignaled\u001b[0m \u001b[0;34m=\u001b[0m \u001b[0mself\u001b[0m\u001b[0;34m.\u001b[0m\u001b[0m_flag\u001b[0m\u001b[0;34m\u001b[0m\u001b[0m\n\u001b[1;32m    548\u001b[0m             \u001b[0;32mif\u001b[0m \u001b[0;32mnot\u001b[0m \u001b[0msignaled\u001b[0m\u001b[0;34m:\u001b[0m\u001b[0;34m\u001b[0m\u001b[0m\n\u001b[0;32m--> 549\u001b[0;31m                 \u001b[0msignaled\u001b[0m \u001b[0;34m=\u001b[0m \u001b[0mself\u001b[0m\u001b[0;34m.\u001b[0m\u001b[0m_cond\u001b[0m\u001b[0;34m.\u001b[0m\u001b[0mwait\u001b[0m\u001b[0;34m(\u001b[0m\u001b[0mtimeout\u001b[0m\u001b[0;34m)\u001b[0m\u001b[0;34m\u001b[0m\u001b[0m\n\u001b[0m\u001b[1;32m    550\u001b[0m             \u001b[0;32mreturn\u001b[0m \u001b[0msignaled\u001b[0m\u001b[0;34m\u001b[0m\u001b[0m\n\u001b[1;32m    551\u001b[0m \u001b[0;34m\u001b[0m\u001b[0m\n",
      "\u001b[0;32m/anaconda3/lib/python3.5/threading.py\u001b[0m in \u001b[0;36mwait\u001b[0;34m(self, timeout)\u001b[0m\n\u001b[1;32m    291\u001b[0m         \u001b[0;32mtry\u001b[0m\u001b[0;34m:\u001b[0m    \u001b[0;31m# restore state no matter what (e.g., KeyboardInterrupt)\u001b[0m\u001b[0;34m\u001b[0m\u001b[0m\n\u001b[1;32m    292\u001b[0m             \u001b[0;32mif\u001b[0m \u001b[0mtimeout\u001b[0m \u001b[0;32mis\u001b[0m \u001b[0;32mNone\u001b[0m\u001b[0;34m:\u001b[0m\u001b[0;34m\u001b[0m\u001b[0m\n\u001b[0;32m--> 293\u001b[0;31m                 \u001b[0mwaiter\u001b[0m\u001b[0;34m.\u001b[0m\u001b[0macquire\u001b[0m\u001b[0;34m(\u001b[0m\u001b[0;34m)\u001b[0m\u001b[0;34m\u001b[0m\u001b[0m\n\u001b[0m\u001b[1;32m    294\u001b[0m                 \u001b[0mgotit\u001b[0m \u001b[0;34m=\u001b[0m \u001b[0;32mTrue\u001b[0m\u001b[0;34m\u001b[0m\u001b[0m\n\u001b[1;32m    295\u001b[0m             \u001b[0;32melse\u001b[0m\u001b[0;34m:\u001b[0m\u001b[0;34m\u001b[0m\u001b[0m\n",
      "\u001b[0;31mKeyboardInterrupt\u001b[0m: "
     ]
    }
   ],
   "source": [
    "a = iterate_minibatches(point, music)"
   ]
  },
  {
   "cell_type": "code",
   "execution_count": null,
   "metadata": {
    "collapsed": false
   },
   "outputs": [],
   "source": [
    "def iterate_minibatches(points, music, batch_size=100, block_size=20, pool_count=32):\n",
    "    def get_vecs(pos):\n",
    "        train_moves = []; pred_move = []; start_pos = []; out_spec = []\n",
    "        for p in pos:\n",
    "            inst = p[0]; min_ = p[1]; max_ = p[2]\n",
    "\n",
    "            for i in range(min_, max_, batch_size):\n",
    "\n",
    "                train_moves.append(moves[inst][i:i+batch_size])\n",
    "\n",
    "                pred_move.append(moves[inst][i+batch_size])\n",
    "\n",
    "                start_pos.append(points[inst][i])\n",
    "\n",
    "                our_spec = np.load(\"spectr/{}.{}.spec\".format(inst, int(i/batch_size)))\n",
    "                out_spec.append(our_spec)\n",
    "            return [out_spec, train_moves, start_pos, pred_move]\n",
    "    \n",
    "    pool = Pool(pool_count)\n",
    "    pools = [[] for _ in range(pool_count)]\n",
    "    moves = np.array([positions_to_moves(x) for x in points])\n",
    "    for index, rec in enumerate(points):\n",
    "        num_blocks = int(len(rec)/block_size)\n",
    "        blocks_in_pool = int(num_blocks/pool_count)\n",
    "        num_blocks = blocks_in_pool*pool_count\n",
    "        for curr, i in enumerate(range(0, num_blocks*block_size-blocks_in_pool*block_size, block_in_pool*block_size)):\n",
    "            pools[curr].append((index, i,i+block_in_pool*block_size)) \n",
    "    \n",
    "    return pools"
   ]
  },
  {
   "cell_type": "code",
   "execution_count": null,
   "metadata": {
    "collapsed": false
   },
   "outputs": [],
   "source": [
    "a = iterate_minibatches([point[0]], [music[0]])"
   ]
  },
  {
   "cell_type": "code",
   "execution_count": null,
   "metadata": {
    "collapsed": false
   },
   "outputs": [],
   "source": [
    "a"
   ]
  }
 ],
 "metadata": {
  "kernelspec": {
   "display_name": "Python [conda root]",
   "language": "python",
   "name": "conda-root-py"
  },
  "language_info": {
   "codemirror_mode": {
    "name": "ipython",
    "version": 3
   },
   "file_extension": ".py",
   "mimetype": "text/x-python",
   "name": "python",
   "nbconvert_exporter": "python",
   "pygments_lexer": "ipython3",
   "version": "3.5.2"
  }
 },
 "nbformat": 4,
 "nbformat_minor": 2
}
