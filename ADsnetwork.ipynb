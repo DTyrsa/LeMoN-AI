{
 "cells": [
  {
   "cell_type": "code",
   "execution_count": 1,
   "metadata": {
    "collapsed": false
   },
   "outputs": [
    {
     "name": "stdout",
     "output_type": "stream",
     "text": [
      "env: THEANO_FLAGS=device=gpu0,floatX=float32\n"
     ]
    },
    {
     "name": "stderr",
     "output_type": "stream",
     "text": [
      "WARNING (theano.sandbox.cuda): The cuda backend is deprecated and will be removed in the next release (v0.10).  Please switch to the gpuarray backend. You can get more information about how to switch at this URL:\n",
      " https://github.com/Theano/Theano/wiki/Converting-to-the-new-gpu-back-end%28gpuarray%29\n",
      "\n",
      "Using gpu device 0: GeForce GTX 1080 (CNMeM is disabled, cuDNN 5110)\n"
     ]
    }
   ],
   "source": [
    "%env THEANO_FLAGS=device=gpu0,floatX=float32\n",
    "import theano\n",
    "import theano.tensor as T\n",
    "import lasagne"
   ]
  },
  {
   "cell_type": "code",
   "execution_count": 2,
   "metadata": {
    "collapsed": false
   },
   "outputs": [
    {
     "data": {
      "text/plain": [
       "<function lasagne.layers.helper.set_all_param_values>"
      ]
     },
     "execution_count": 2,
     "metadata": {},
     "output_type": "execute_result"
    }
   ],
   "source": [
    "lasagne.layers.set_all_param_values"
   ]
  },
  {
   "cell_type": "code",
   "execution_count": 3,
   "metadata": {
    "collapsed": true
   },
   "outputs": [],
   "source": [
    "MUSIC_SHAPE = (None, 20, 200)\n",
    "START_POSITION_SHAPE = (None, 38, 3)\n",
    "SHIFT_SHAPE = (None, 20, 38*3)"
   ]
  },
  {
   "cell_type": "code",
   "execution_count": 4,
   "metadata": {
    "collapsed": true
   },
   "outputs": [],
   "source": [
    "input_music_var = T.tensor3(\"Music input\")\n",
    "input_shift_var = T.tensor3(\"Shift input\")\n",
    "\n",
    "input_position_var = T.tensor3(\"Start position\")\n",
    "delta_mov_var = T.matrix(\"Delta moving\")"
   ]
  },
  {
   "cell_type": "code",
   "execution_count": 9,
   "metadata": {
    "collapsed": false
   },
   "outputs": [
    {
     "name": "stdout",
     "output_type": "stream",
     "text": [
      "Music conv:  (None, 256, 11)\n",
      "Shift conv:  (None, 256, 11)\n",
      "Position pool:  (None, 512)\n",
      "Conc:  (None, 1024)\n",
      "Output:  (None, 114)\n"
     ]
    }
   ],
   "source": [
    "music_input = lasagne.layers.InputLayer(shape=MUSIC_SHAPE, input_var=input_music_var)\n",
    "music_input = lasagne.layers.BatchNormLayer(music_input)\n",
    "music_dims = lasagne.layers.DimshuffleLayer(music_input, (0, 2, 1))\n",
    "music_conv = lasagne.layers.Conv1DLayer(music_dims, 256, 10, name=\"Music\")\n",
    "music_conv = lasagne.layers.batch_norm(music_conv)\n",
    "# music_pool = lasagne.layers.GlobalPoolLayer(music_conv, T.max)\n",
    "print(\"Music conv: \", music_conv.output_shape)\n",
    "\n",
    "shift_input = lasagne.layers.InputLayer(shape=SHIFT_SHAPE, input_var=input_shift_var)\n",
    "shift_input = lasagne.layers.BatchNormLayer(shift_input)\n",
    "shift_dims = lasagne.layers.DimshuffleLayer(shift_input, (0, 2, 1))\n",
    "shift_conv = lasagne.layers.Conv1DLayer(shift_dims, 256, 10, name=\"shift_conv\")\n",
    "shift_conv = lasagne.layers.batch_norm(shift_conv)\n",
    "# shift_pool = lasagne.layers.GlobalPoolLayer(music_conv, T.max)\n",
    "print(\"Shift conv: \", shift_conv.output_shape)\n",
    "\n",
    "position_input = lasagne.layers.InputLayer(shape=START_POSITION_SHAPE, input_var=input_position_var)\n",
    "position_input = lasagne.layers.BatchNormLayer(position_input)\n",
    "position_dims = lasagne.layers.DimshuffleLayer(position_input, (0, 2, 1))\n",
    "position_conv = lasagne.layers.Conv1DLayer(position_dims, 128, 2, name=\"Conv0\")\n",
    "position_conv = lasagne.layers.batch_norm(position_conv)\n",
    "position_pool = lasagne.layers.Pool1DLayer(position_conv, 2, name=\"Pool0\")\n",
    "position_conv = lasagne.layers.Conv1DLayer(position_pool, 512, 2, name=\"Conv1\")\n",
    "position_conv = lasagne.layers.batch_norm(position_conv)\n",
    "position_pool = lasagne.layers.GlobalPoolLayer(position_conv, pool_function=T.max, name=\"Gpool\")\n",
    "print(\"Position pool: \", position_pool.output_shape)\n",
    "\n",
    "lstm_music = lasagne.layers.LSTMLayer(music_conv, 512, only_return_final=True, name=\"Music LSTM\")\n",
    "lstm_music = lasagne.layers.batch_norm(lstm_music)\n",
    "# lstm_music = lasagne.layers.ReshapeLayer(lstm_music, (-1, 1, 512))\n",
    "\n",
    "lstm_shift = lasagne.layers.LSTMLayer(shift_conv, 512, hid_init=position_pool, only_return_final=True, name=\"Shift LSTM\")\n",
    "lstm_shift = lasagne.layers.batch_norm(lstm_shift)\n",
    "# lstm_shift = lasagne.layers.ReshapeLayer(lstm_shift, (-1, 1, 512))\n",
    "\n",
    "conc = lasagne.layers.ConcatLayer([lstm_music, lstm_shift], axis=1)\n",
    "print(\"Conc: \", conc.output_shape)\n",
    "dense_0 = lasagne.layers.DenseLayer(conc, 256, nonlinearity=lasagne.nonlinearities.sigmoid, name=\"Dense1\")\n",
    "output = lasagne.layers.DenseLayer(dense_0, 38*3, nonlinearity=lasagne.nonlinearities.linear, name=\"Conv2\")\n",
    "print(\"Output: \", output.output_shape)\n",
    "\n",
    "reshape_output = lasagne.layers.ReshapeLayer(output, (-1, 38, 3))"
   ]
  },
  {
   "cell_type": "code",
   "execution_count": 5,
   "metadata": {
    "collapsed": true
   },
   "outputs": [],
   "source": [
    "def gr(l):\n",
    "    theano.grad(lasagne.layers.get_output(l).sum(), lasagne.layers.get_all_params(l))"
   ]
  },
  {
   "cell_type": "code",
   "execution_count": 10,
   "metadata": {
    "collapsed": false
   },
   "outputs": [
    {
     "name": "stdout",
     "output_type": "stream",
     "text": [
      "[beta, gamma, Music.W, Music_bn.beta, Music_bn.gamma, Music LSTM.W_in_to_ingate, Music LSTM.W_hid_to_ingate, Music LSTM.b_ingate, Music LSTM.W_in_to_forgetgate, Music LSTM.W_hid_to_forgetgate, Music LSTM.b_forgetgate, Music LSTM.W_in_to_cell, Music LSTM.W_hid_to_cell, Music LSTM.b_cell, Music LSTM.W_in_to_outgate, Music LSTM.W_hid_to_outgate, Music LSTM.b_outgate, Music LSTM.W_cell_to_ingate, Music LSTM.W_cell_to_forgetgate, Music LSTM.W_cell_to_outgate, Music LSTM_bn.beta, Music LSTM_bn.gamma, beta, gamma, shift_conv.W, shift_conv_bn.beta, shift_conv_bn.gamma, beta, gamma, Conv0.W, Conv0_bn.beta, Conv0_bn.gamma, Conv1.W, Conv1_bn.beta, Conv1_bn.gamma, Shift LSTM.W_in_to_ingate, Shift LSTM.W_hid_to_ingate, Shift LSTM.b_ingate, Shift LSTM.W_in_to_forgetgate, Shift LSTM.W_hid_to_forgetgate, Shift LSTM.b_forgetgate, Shift LSTM.W_in_to_cell, Shift LSTM.W_hid_to_cell, Shift LSTM.b_cell, Shift LSTM.W_in_to_outgate, Shift LSTM.W_hid_to_outgate, Shift LSTM.b_outgate, Shift LSTM.W_cell_to_ingate, Shift LSTM.W_cell_to_forgetgate, Shift LSTM.W_cell_to_outgate, Shift LSTM_bn.beta, Shift LSTM_bn.gamma, Dense1.W, Dense1.b, Conv2.W, Conv2.b]\n"
     ]
    }
   ],
   "source": [
    "weights = lasagne.layers.get_all_params(output, trainable=True)\n",
    "print(weights)"
   ]
  },
  {
   "cell_type": "code",
   "execution_count": 7,
   "metadata": {
    "collapsed": false
   },
   "outputs": [],
   "source": [
    "gr(output)"
   ]
  },
  {
   "cell_type": "code",
   "execution_count": 7,
   "metadata": {
    "collapsed": false
   },
   "outputs": [],
   "source": [
    "out = lasagne.layers.get_output(output)\n",
    "# fun = theano.function([input_music_var, input_shift_var, input_position_var], out, allow_input_downcast=True)"
   ]
  },
  {
   "cell_type": "code",
   "execution_count": 22,
   "metadata": {
    "collapsed": false
   },
   "outputs": [],
   "source": [
    "bio_check = theano.shared(0., name=\"bio_check\")\n",
    "loss = T.sum([bio_check, lasagne.objectives.squared_error(out, delta_mov_var).sum()])\n",
    "# print(loss)"
   ]
  },
  {
   "cell_type": "code",
   "execution_count": 14,
   "metadata": {
    "collapsed": false
   },
   "outputs": [],
   "source": [
    "update = lasagne.updates.adam(loss, weights, learning_rate=0.0001)"
   ]
  },
  {
   "cell_type": "code",
   "execution_count": 15,
   "metadata": {
    "collapsed": false
   },
   "outputs": [],
   "source": [
    "train_ = theano.function([input_music_var, input_shift_var, input_position_var, delta_mov_var], updates=update, allow_input_downcast=True)"
   ]
  },
  {
   "cell_type": "code",
   "execution_count": null,
   "metadata": {
    "collapsed": true
   },
   "outputs": [],
   "source": []
  },
  {
   "cell_type": "code",
   "execution_count": null,
   "metadata": {
    "collapsed": true
   },
   "outputs": [],
   "source": []
  },
  {
   "cell_type": "code",
   "execution_count": null,
   "metadata": {
    "collapsed": true
   },
   "outputs": [],
   "source": []
  },
  {
   "cell_type": "code",
   "execution_count": null,
   "metadata": {
    "collapsed": true
   },
   "outputs": [],
   "source": []
  },
  {
   "cell_type": "code",
   "execution_count": 12,
   "metadata": {
    "collapsed": true
   },
   "outputs": [],
   "source": [
    "import numpy as np"
   ]
  },
  {
   "cell_type": "code",
   "execution_count": 13,
   "metadata": {
    "collapsed": true
   },
   "outputs": [],
   "source": [
    "mus = np.random.random((100, 200, 200))\n",
    "st_pos = np.random.random((100, 38, 3))\n",
    "shift_ = np.random.random((100, 200, 38*3))\n",
    "delta_mov = np.random.random((100, 38*3))"
   ]
  },
  {
   "cell_type": "code",
   "execution_count": 16,
   "metadata": {
    "collapsed": false
   },
   "outputs": [
    {
     "data": {
      "text/plain": [
       "[]"
      ]
     },
     "execution_count": 16,
     "metadata": {},
     "output_type": "execute_result"
    }
   ],
   "source": [
    "train_(mus, shift_, st_pos, delta_mov)"
   ]
  },
  {
   "cell_type": "code",
   "execution_count": null,
   "metadata": {
    "collapsed": true
   },
   "outputs": [],
   "source": []
  }
 ],
 "metadata": {
  "kernelspec": {
   "display_name": "Python [conda root]",
   "language": "python",
   "name": "conda-root-py"
  },
  "language_info": {
   "codemirror_mode": {
    "name": "ipython",
    "version": 3
   },
   "file_extension": ".py",
   "mimetype": "text/x-python",
   "name": "python",
   "nbconvert_exporter": "python",
   "pygments_lexer": "ipython3",
   "version": "3.5.2"
  }
 },
 "nbformat": 4,
 "nbformat_minor": 0
}
