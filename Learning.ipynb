{
 "cells": [
  {
   "cell_type": "code",
   "execution_count": 1,
   "metadata": {
    "collapsed": false,
    "scrolled": true
   },
   "outputs": [
    {
     "name": "stdout",
     "output_type": "stream",
     "text": [
      "env: THEANO_FLAGS=device=gpu0,floatX=float32\n"
     ]
    },
    {
     "name": "stderr",
     "output_type": "stream",
     "text": [
      "WARNING (theano.sandbox.cuda): The cuda backend is deprecated and will be removed in the next release (v0.10).  Please switch to the gpuarray backend. You can get more information about how to switch at this URL:\n",
      " https://github.com/Theano/Theano/wiki/Converting-to-the-new-gpu-back-end%28gpuarray%29\n",
      "\n",
      "Using gpu device 0: GeForce GTX 1080 (CNMeM is disabled, cuDNN 5110)\n"
     ]
    }
   ],
   "source": [
    "%env THEANO_FLAGS=device=gpu0,floatX=float32\n",
    "from ADsnetwork import LeMoN_AI"
   ]
  },
  {
   "cell_type": "code",
   "execution_count": 2,
   "metadata": {
    "collapsed": false
   },
   "outputs": [
    {
     "name": "stdout",
     "output_type": "stream",
     "text": [
      "Music conv:  (None, 200, 20)\n",
      "Music conv:  (None, 256, 11)\n",
      "Shift conv:  (None, 114, 20)\n",
      "Shift conv:  (None, 256, 11)\n",
      "Position pool:  (None, 512)\n",
      "Conc:  (None, 1024)\n",
      "Output:  (None, 114)\n"
     ]
    }
   ],
   "source": [
    "model = LeMoN_AI()"
   ]
  },
  {
   "cell_type": "code",
   "execution_count": null,
   "metadata": {
    "collapsed": false
   },
   "outputs": [],
   "source": [
    "from time import time\n",
    "from prefetch_generator import BackgroundGenerator\n",
    "from telebot import TeleBot\n",
    "from utils import get_data, iterate_minibatches\n",
    "import config\n",
    "\n",
    "bot = TeleBot(config.telegram_token)"
   ]
  },
  {
   "cell_type": "code",
   "execution_count": null,
   "metadata": {
    "collapsed": true
   },
   "outputs": [],
   "source": [
    "def send_log(message):\n",
    "    bot.send_message(config.channel, message)"
   ]
  },
  {
   "cell_type": "code",
   "execution_count": null,
   "metadata": {
    "collapsed": true
   },
   "outputs": [],
   "source": [
    "send_log(\"Тестируем канал\")"
   ]
  },
  {
   "cell_type": "code",
   "execution_count": null,
   "metadata": {
    "collapsed": true
   },
   "outputs": [],
   "source": [
    "epoch = 100\n",
    "batch_size = 1000\n",
    "time_leght = 20"
   ]
  },
  {
   "cell_type": "code",
   "execution_count": null,
   "metadata": {
    "collapsed": false
   },
   "outputs": [],
   "source": [
    "points, music = get_data(\"ok_dat.npy\")\n",
    "iterate_mini_set = {\n",
    "    \"points\": points,\n",
    "    \"music\": music,\n",
    "    \"batch_size\": batch_size,\n",
    "    \"block_size\": time_leght\n",
    "}"
   ]
  },
  {
   "cell_type": "code",
   "execution_count": null,
   "metadata": {
    "collapsed": true
   },
   "outputs": [],
   "source": [
    "message = \"\"\"Epoch: {}\n",
    "Time: {}\n",
    "Mean loss(square error): {}\"\"\""
   ]
  },
  {
   "cell_type": "code",
   "execution_count": null,
   "metadata": {
    "collapsed": false
   },
   "outputs": [],
   "source": [
    "for epoch in range(1, epoch+1):\n",
    "    n = 0\n",
    "    loss = 0\n",
    "    st = time()\n",
    "    for music_, shift, stp, delta_mov in BackgroundGenerator(iterate_minibatches(**iterate_mini_set)):\n",
    "        loss += model.train(music_.reshape((-1, time_leght, 200)), shift.reshape((-1, 19, 38*3)), stp, delta_mov.reshape((-1, 38*3)))\n",
    "        n += 1\n",
    "    t = time() - st\n",
    "    send_log(message.format(epoch, t, loss/(n*1.)))\n",
    "    model.save()"
   ]
  },
  {
   "cell_type": "code",
   "execution_count": null,
   "metadata": {
    "collapsed": false
   },
   "outputs": [],
   "source": [
    "music_.reshape((-1, time_leght, 200)).shape, shift.reshape((-1, 19, 38*3)).shape, stp.shape, delta_mov.reshape((-1, 38*3)).shape"
   ]
  },
  {
   "cell_type": "code",
   "execution_count": null,
   "metadata": {
    "collapsed": true
   },
   "outputs": [],
   "source": []
  }
 ],
 "metadata": {
  "kernelspec": {
   "display_name": "Python [conda root]",
   "language": "python",
   "name": "conda-root-py"
  },
  "language_info": {
   "codemirror_mode": {
    "name": "ipython",
    "version": 3
   },
   "file_extension": ".py",
   "mimetype": "text/x-python",
   "name": "python",
   "nbconvert_exporter": "python",
   "pygments_lexer": "ipython3",
   "version": "3.5.2"
  }
 },
 "nbformat": 4,
 "nbformat_minor": 2
}
