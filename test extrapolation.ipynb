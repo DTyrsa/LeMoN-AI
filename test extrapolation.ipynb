{
 "cells": [
  {
   "cell_type": "code",
   "execution_count": 2,
   "metadata": {
    "collapsed": true
   },
   "outputs": [],
   "source": [
    "def extrapolate(frames,deg=3):\n",
    "    assert frames.shape[1] == 3 and np.ndim(frames) == 2\n",
    "    # get polynomial coefficients\n",
    "    poly_coef = lambda a, b: np.polyfit(a,b,deg)\n",
    "    # get polynomial itself\n",
    "    polynomial = lambda coefs: np.poly1d(coefs)\n",
    "    # make all column combinations\n",
    "    col_indexes = [0,1,2]\n",
    "    combs = list(itertools.combinations(col_indexes,2))\n",
    "    combs.extend(list(map(lambda x: tuple(reversed(x)), combs)))\n",
    "    combs.sort(key=lambda x: x[1])\n",
    "    \n",
    "    all_coefs = [[],[],[]]\n",
    "    for i in range(3):\n",
    "        for comb in combs[i*2:i*2+2]: # divide combinations to three parts of two elements\n",
    "            all_coefs[i].append(poly_coef(frames[comb[0]], frames[comb[1]]))\n",
    "    \n",
    "    final_coefs = list(map(sum, all_coefs))\n",
    "    \n",
    "    return list(map(polynomial,final_coefs))"
   ]
  },
  {
   "cell_type": "code",
   "execution_count": 5,
   "metadata": {
    "collapsed": false
   },
   "outputs": [
    {
     "ename": "SyntaxError",
     "evalue": "invalid syntax (operations.py, line 76)",
     "output_type": "error",
     "traceback": [
      "\u001b[0;36m  File \u001b[0;32m\"/home/notebook/LeMoN-AI/operations.py\"\u001b[0;36m, line \u001b[0;32m76\u001b[0m\n\u001b[0;31m    def dist(self, (point_1, point_2)):\u001b[0m\n\u001b[0m                   ^\u001b[0m\n\u001b[0;31mSyntaxError\u001b[0m\u001b[0;31m:\u001b[0m invalid syntax\n"
     ]
    }
   ],
   "source": [
    "from operationsra import DataP"
   ]
  },
  {
   "cell_type": "code",
   "execution_count": 3,
   "metadata": {
    "collapsed": false
   },
   "outputs": [
    {
     "ename": "ImportError",
     "evalue": "No module named c3d",
     "output_type": "error",
     "traceback": [
      "\u001b[0;31m---------------------------------------------------------------------------\u001b[0m",
      "\u001b[0;31mImportError\u001b[0m                               Traceback (most recent call last)",
      "\u001b[0;32m<ipython-input-3-8269b95d1fc9>\u001b[0m in \u001b[0;36m<module>\u001b[0;34m()\u001b[0m\n\u001b[0;32m----> 1\u001b[0;31m \u001b[0;32mimport\u001b[0m \u001b[0mc3d\u001b[0m\u001b[0;34m\u001b[0m\u001b[0m\n\u001b[0m",
      "\u001b[0;31mImportError\u001b[0m: No module named c3d"
     ]
    }
   ],
   "source": [
    "import c3d"
   ]
  }
 ],
 "metadata": {
  "kernelspec": {
   "display_name": "Python [default]",
   "language": "python",
   "name": "python3"
  },
  "language_info": {
   "codemirror_mode": {
    "name": "ipython",
    "version": 3
   },
   "file_extension": ".py",
   "mimetype": "text/x-python",
   "name": "python",
   "nbconvert_exporter": "python",
   "pygments_lexer": "ipython3",
   "version": "3.5.2"
  }
 },
 "nbformat": 4,
 "nbformat_minor": 2
}
